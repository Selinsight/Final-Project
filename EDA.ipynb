{
 "cells": [
  {
   "cell_type": "code",
   "execution_count": 50,
   "metadata": {},
   "outputs": [],
   "source": [
    "import pandas as pd\n",
    "\n",
    "data = pd.read_csv('/Users/selinwork/Documents/Ironhack/Ironhack_Week_9/Kaggle_Ok_Cupid/cleaned_dataset.csv')"
   ]
  },
  {
   "cell_type": "markdown",
   "metadata": {},
   "source": [
    "<h1 style=\"color:#6a9fb5;\">EDA</h1>"
   ]
  },
  {
   "cell_type": "code",
   "execution_count": 51,
   "metadata": {},
   "outputs": [],
   "source": [
    "bins = [18, 25, 30, 40, 50, float('inf')]  # Define bins\n",
    "labels = ['18-25', '25-30', '30-40', '40-50', '50+']  # Define labels\n",
    "\n",
    "# Apply grouping to the numerical age column in the second dataset\n",
    "data['age'] = pd.cut(data['age'], bins=bins, labels=labels, right=False)"
   ]
  },
  {
   "cell_type": "code",
   "execution_count": 52,
   "metadata": {},
   "outputs": [
    {
     "name": "stdout",
     "output_type": "stream",
     "text": [
      "  gender     status    age  height       body_type education  income  \\\n",
      "0      m     single  18-25    75.0  a little extra   College      -1   \n",
      "1      m     single  30-40    70.0         average     Other   80000   \n",
      "2      m  available  30-40    68.0            thin   Masters      -1   \n",
      "3      m     single  18-25    71.0            thin   College   20000   \n",
      "4      m     single  25-30    66.0        athletic   College      -1   \n",
      "\n",
      "                kids            smoking    drinks       drugs  \\\n",
      "0            No Kids  Occasional Smoker  socially       never   \n",
      "1            No Kids         Non-Smoker     often   sometimes   \n",
      "2         No Comment         Non-Smoker  socially  no comment   \n",
      "3  Doesn't Want Kids         Non-Smoker  socially  no comment   \n",
      "4         No Comment         Non-Smoker  socially       never   \n",
      "\n",
      "              language                          job  \n",
      "0              Unknown               transportation  \n",
      "1  English Fluent Only         hospitality / travel  \n",
      "2              Unknown                   no comment  \n",
      "3              Unknown                      student  \n",
      "4              Unknown  artistic / musical / writer  \n"
     ]
    }
   ],
   "source": [
    "# Drop essay columns for EDA\n",
    "essay_columns = ['self_summary', 'life_work', 'skills', 'first_notice', 'favorites', \n",
    "                 'cant_live_without', 'thinking_about', 'friday_night', 'private_admission', 'message_me_if']\n",
    "\n",
    "eda_data = data.drop(columns=essay_columns)\n",
    "\n",
    "# Verify the new dataset\n",
    "print(eda_data.head())"
   ]
  },
  {
   "cell_type": "code",
   "execution_count": 53,
   "metadata": {},
   "outputs": [
    {
     "data": {
      "text/plain": [
       "(59946, 13)"
      ]
     },
     "execution_count": 53,
     "metadata": {},
     "output_type": "execute_result"
    }
   ],
   "source": [
    "eda_data.shape"
   ]
  },
  {
   "cell_type": "markdown",
   "metadata": {},
   "source": [
    "<h1 style=\"color:#6a9fb5;\">Extracting and Merging with previous Dataset </h1>"
   ]
  },
  {
   "cell_type": "code",
   "execution_count": 54,
   "metadata": {},
   "outputs": [
    {
     "data": {
      "text/html": [
       "<div>\n",
       "<style scoped>\n",
       "    .dataframe tbody tr th:only-of-type {\n",
       "        vertical-align: middle;\n",
       "    }\n",
       "\n",
       "    .dataframe tbody tr th {\n",
       "        vertical-align: top;\n",
       "    }\n",
       "\n",
       "    .dataframe thead th {\n",
       "        text-align: right;\n",
       "    }\n",
       "</style>\n",
       "<table border=\"1\" class=\"dataframe\">\n",
       "  <thead>\n",
       "    <tr style=\"text-align: right;\">\n",
       "      <th></th>\n",
       "      <th>Time</th>\n",
       "      <th>Age</th>\n",
       "      <th>Gender</th>\n",
       "      <th>UsedApps</th>\n",
       "      <th>UsageFreq</th>\n",
       "      <th>LookingFor</th>\n",
       "      <th>UsageDuration</th>\n",
       "      <th>GhostingExp</th>\n",
       "      <th>OverallExp</th>\n",
       "      <th>NoAppReason</th>\n",
       "      <th>...</th>\n",
       "      <th>MeetingLoc</th>\n",
       "      <th>Punctuality</th>\n",
       "      <th>Comfort</th>\n",
       "      <th>MeetAgain</th>\n",
       "      <th>ReviewTime</th>\n",
       "      <th>ReflectBeforeSwipe</th>\n",
       "      <th>NoShow</th>\n",
       "      <th>OpenToQR</th>\n",
       "      <th>BehaviorPromt</th>\n",
       "      <th>ConsciousModule</th>\n",
       "    </tr>\n",
       "  </thead>\n",
       "  <tbody>\n",
       "    <tr>\n",
       "      <th>0</th>\n",
       "      <td>2023-01-01</td>\n",
       "      <td>30-40</td>\n",
       "      <td>Female</td>\n",
       "      <td>Yes</td>\n",
       "      <td>Occasionally</td>\n",
       "      <td>Short-term or casual relationship</td>\n",
       "      <td>1-6 months</td>\n",
       "      <td>Both</td>\n",
       "      <td>Negative</td>\n",
       "      <td>Prefer real connection over online dating</td>\n",
       "      <td>...</td>\n",
       "      <td>Private</td>\n",
       "      <td>Yes</td>\n",
       "      <td>No</td>\n",
       "      <td>No</td>\n",
       "      <td>Seconds</td>\n",
       "      <td>No</td>\n",
       "      <td>Yes</td>\n",
       "      <td>Yes</td>\n",
       "      <td>Yes</td>\n",
       "      <td>No</td>\n",
       "    </tr>\n",
       "    <tr>\n",
       "      <th>1</th>\n",
       "      <td>2023-01-01</td>\n",
       "      <td>40-50</td>\n",
       "      <td>Male</td>\n",
       "      <td>No</td>\n",
       "      <td>Frequently</td>\n",
       "      <td>Short-term or casual relationship</td>\n",
       "      <td>1-6 months</td>\n",
       "      <td>Ghosting</td>\n",
       "      <td>Negative</td>\n",
       "      <td>Have been in a relationship since I was a minor</td>\n",
       "      <td>...</td>\n",
       "      <td>Depends</td>\n",
       "      <td>Yes</td>\n",
       "      <td>Somewhat</td>\n",
       "      <td>Yes</td>\n",
       "      <td>Seconds</td>\n",
       "      <td>Yes</td>\n",
       "      <td>No</td>\n",
       "      <td>Yes</td>\n",
       "      <td>No</td>\n",
       "      <td>Yes</td>\n",
       "    </tr>\n",
       "    <tr>\n",
       "      <th>2</th>\n",
       "      <td>2023-01-01</td>\n",
       "      <td>25-30</td>\n",
       "      <td>Male</td>\n",
       "      <td>No</td>\n",
       "      <td>Rarely</td>\n",
       "      <td>Long-term relationship</td>\n",
       "      <td>more than 1 year</td>\n",
       "      <td>Both</td>\n",
       "      <td>Negative</td>\n",
       "      <td>Not interested</td>\n",
       "      <td>...</td>\n",
       "      <td>Public</td>\n",
       "      <td>No</td>\n",
       "      <td>Somewhat</td>\n",
       "      <td>Maybe</td>\n",
       "      <td>Seconds</td>\n",
       "      <td>Yes</td>\n",
       "      <td>No</td>\n",
       "      <td>Yes</td>\n",
       "      <td>Neutral</td>\n",
       "      <td>No</td>\n",
       "    </tr>\n",
       "    <tr>\n",
       "      <th>3</th>\n",
       "      <td>2023-01-01</td>\n",
       "      <td>40-50</td>\n",
       "      <td>Male</td>\n",
       "      <td>Yes</td>\n",
       "      <td>Rarely</td>\n",
       "      <td>I don't know yet</td>\n",
       "      <td>more than 1 year</td>\n",
       "      <td>Both</td>\n",
       "      <td>Very negative</td>\n",
       "      <td>Prefer real connection over online dating</td>\n",
       "      <td>...</td>\n",
       "      <td>Private</td>\n",
       "      <td>Yes</td>\n",
       "      <td>No</td>\n",
       "      <td>Maybe</td>\n",
       "      <td>Minutes</td>\n",
       "      <td>No</td>\n",
       "      <td>No</td>\n",
       "      <td>No</td>\n",
       "      <td>No</td>\n",
       "      <td>No</td>\n",
       "    </tr>\n",
       "    <tr>\n",
       "      <th>4</th>\n",
       "      <td>2023-01-01</td>\n",
       "      <td>40-50</td>\n",
       "      <td>Female</td>\n",
       "      <td>Yes</td>\n",
       "      <td>Occasionally</td>\n",
       "      <td>I don't know yet</td>\n",
       "      <td>1-6 months</td>\n",
       "      <td>Being ghosted</td>\n",
       "      <td>Negative</td>\n",
       "      <td>Prefer real connection over online dating</td>\n",
       "      <td>...</td>\n",
       "      <td>Private</td>\n",
       "      <td>Yes</td>\n",
       "      <td>Somewhat</td>\n",
       "      <td>No</td>\n",
       "      <td>Seconds</td>\n",
       "      <td>No</td>\n",
       "      <td>No</td>\n",
       "      <td>Yes</td>\n",
       "      <td>Neutral</td>\n",
       "      <td>No</td>\n",
       "    </tr>\n",
       "  </tbody>\n",
       "</table>\n",
       "<p>5 rows × 23 columns</p>\n",
       "</div>"
      ],
      "text/plain": [
       "         Time    Age  Gender UsedApps     UsageFreq  \\\n",
       "0  2023-01-01  30-40  Female      Yes  Occasionally   \n",
       "1  2023-01-01  40-50    Male       No    Frequently   \n",
       "2  2023-01-01  25-30    Male       No        Rarely   \n",
       "3  2023-01-01  40-50    Male      Yes        Rarely   \n",
       "4  2023-01-01  40-50  Female      Yes  Occasionally   \n",
       "\n",
       "                          LookingFor     UsageDuration    GhostingExp  \\\n",
       "0  Short-term or casual relationship        1-6 months           Both   \n",
       "1  Short-term or casual relationship        1-6 months       Ghosting   \n",
       "2             Long-term relationship  more than 1 year           Both   \n",
       "3                   I don't know yet  more than 1 year           Both   \n",
       "4                   I don't know yet        1-6 months  Being ghosted   \n",
       "\n",
       "      OverallExp                                      NoAppReason  ...  \\\n",
       "0       Negative        Prefer real connection over online dating  ...   \n",
       "1       Negative  Have been in a relationship since I was a minor  ...   \n",
       "2       Negative                                   Not interested  ...   \n",
       "3  Very negative        Prefer real connection over online dating  ...   \n",
       "4       Negative        Prefer real connection over online dating  ...   \n",
       "\n",
       "  MeetingLoc Punctuality   Comfort MeetAgain ReviewTime ReflectBeforeSwipe  \\\n",
       "0    Private         Yes        No        No    Seconds                 No   \n",
       "1    Depends         Yes  Somewhat       Yes    Seconds                Yes   \n",
       "2     Public          No  Somewhat     Maybe    Seconds                Yes   \n",
       "3    Private         Yes        No     Maybe    Minutes                 No   \n",
       "4    Private         Yes  Somewhat        No    Seconds                 No   \n",
       "\n",
       "  NoShow OpenToQR BehaviorPromt ConsciousModule  \n",
       "0    Yes      Yes           Yes              No  \n",
       "1     No      Yes            No             Yes  \n",
       "2     No      Yes       Neutral              No  \n",
       "3     No       No            No              No  \n",
       "4     No      Yes       Neutral              No  \n",
       "\n",
       "[5 rows x 23 columns]"
      ]
     },
     "execution_count": 54,
     "metadata": {},
     "output_type": "execute_result"
    }
   ],
   "source": [
    "df = pd.read_csv('/Users/selinwork/Documents/Ironhack/Ironhack_Week_9/Kaggle_Ok_Cupid/Final_Combined_Dating_Dataset_Updated.csv')\n",
    "df.head()"
   ]
  },
  {
   "cell_type": "code",
   "execution_count": 55,
   "metadata": {},
   "outputs": [],
   "source": [
    "df = df.drop(['Time','Gender', 'UsedApps', 'UsageFreq', 'LookingFor', 'UsageDuration', 'NoAppReason', 'OpenToQR', 'IntentToUse'], axis=1)"
   ]
  },
  {
   "cell_type": "code",
   "execution_count": 56,
   "metadata": {},
   "outputs": [
    {
     "name": "stderr",
     "output_type": "stream",
     "text": [
      "/var/folders/rp/xh3vdlq17n94q_y2mld23x5r0000gn/T/ipykernel_49014/2693745710.py:2: FutureWarning: DataFrame.applymap has been deprecated. Use DataFrame.map instead.\n",
      "  df = df.applymap(lambda s: s.lower() if type(s) == str else s)\n"
     ]
    }
   ],
   "source": [
    "df.columns = df.columns.str.lower()\n",
    "df = df.applymap(lambda s: s.lower() if type(s) == str else s)"
   ]
  },
  {
   "cell_type": "code",
   "execution_count": 57,
   "metadata": {},
   "outputs": [
    {
     "name": "stdout",
     "output_type": "stream",
     "text": [
      "(7199080, 26)\n"
     ]
    }
   ],
   "source": [
    "merged_df = pd.merge(eda_data, df, on='age', how='left')\n",
    "print(merged_df.shape)"
   ]
  },
  {
   "cell_type": "code",
   "execution_count": 58,
   "metadata": {},
   "outputs": [
    {
     "name": "stdout",
     "output_type": "stream",
     "text": [
      "(59946, 13)\n",
      "59941\n"
     ]
    }
   ],
   "source": [
    "print(eda_data.shape)  # Check the number of rows and columns in `data`\n",
    "print(eda_data['age'].duplicated().sum())  # Check for duplicate age values"
   ]
  },
  {
   "cell_type": "code",
   "execution_count": 59,
   "metadata": {},
   "outputs": [
    {
     "name": "stdout",
     "output_type": "stream",
     "text": [
      "(500, 14)\n",
      "497\n"
     ]
    }
   ],
   "source": [
    "print(df.shape)  # Check the number of rows and columns in `df`\n",
    "print(df['age'].duplicated().sum())  # Check for duplicate age values"
   ]
  },
  {
   "cell_type": "code",
   "execution_count": 60,
   "metadata": {},
   "outputs": [],
   "source": [
    "# Deduplicate the right dataset by keeping the first occurrence \n",
    "df= df.drop_duplicates(subset=['age'], keep='first')"
   ]
  },
  {
   "cell_type": "code",
   "execution_count": 61,
   "metadata": {},
   "outputs": [
    {
     "name": "stdout",
     "output_type": "stream",
     "text": [
      "(59946, 26)\n"
     ]
    }
   ],
   "source": [
    "merged_df = pd.merge(eda_data, df, on='age', how='left')\n",
    "print(merged_df.shape)  # Check the shape of the merged dataset"
   ]
  },
  {
   "cell_type": "code",
   "execution_count": 62,
   "metadata": {},
   "outputs": [],
   "source": [
    "merged_df['height'] = merged_df['height'].fillna(merged_df['height'].mode()[0])"
   ]
  },
  {
   "cell_type": "code",
   "execution_count": 63,
   "metadata": {},
   "outputs": [],
   "source": [
    "columns_to_fill = ['ghostingexp', 'overallexp', 'meetingfreq','datespermatch','meetingloc','punctuality','comfort','meetagain','reviewtime',\n",
    "                   'reflectbeforeswipe','noshow', 'behaviorpromt', 'consciousmodule']\n",
    "\n",
    "# Ensure columns exist in the DataFrame\n",
    "columns_to_fill = [col for col in columns_to_fill if col in merged_df.columns]\n",
    "\n",
    "# Fill missing values\n",
    "merged_df[columns_to_fill] = merged_df[columns_to_fill].fillna(merged_df[columns_to_fill].mode().iloc[0])"
   ]
  },
  {
   "cell_type": "code",
   "execution_count": 64,
   "metadata": {},
   "outputs": [
    {
     "name": "stdout",
     "output_type": "stream",
     "text": [
      "\n",
      "Missing Values:\n",
      "gender                0\n",
      "status                0\n",
      "age                   0\n",
      "height                0\n",
      "body_type             0\n",
      "education             0\n",
      "income                0\n",
      "kids                  0\n",
      "smoking               0\n",
      "drinks                0\n",
      "drugs                 0\n",
      "language              0\n",
      "job                   0\n",
      "ghostingexp           0\n",
      "overallexp            0\n",
      "meetingfreq           0\n",
      "datespermatch         0\n",
      "meetingloc            0\n",
      "punctuality           0\n",
      "comfort               0\n",
      "meetagain             0\n",
      "reviewtime            0\n",
      "reflectbeforeswipe    0\n",
      "noshow                0\n",
      "behaviorpromt         0\n",
      "consciousmodule       0\n",
      "dtype: int64\n"
     ]
    }
   ],
   "source": [
    "print(\"\\nMissing Values:\")\n",
    "print(merged_df.isnull().sum())"
   ]
  },
  {
   "cell_type": "code",
   "execution_count": 65,
   "metadata": {},
   "outputs": [
    {
     "data": {
      "text/html": [
       "<div>\n",
       "<style scoped>\n",
       "    .dataframe tbody tr th:only-of-type {\n",
       "        vertical-align: middle;\n",
       "    }\n",
       "\n",
       "    .dataframe tbody tr th {\n",
       "        vertical-align: top;\n",
       "    }\n",
       "\n",
       "    .dataframe thead th {\n",
       "        text-align: right;\n",
       "    }\n",
       "</style>\n",
       "<table border=\"1\" class=\"dataframe\">\n",
       "  <thead>\n",
       "    <tr style=\"text-align: right;\">\n",
       "      <th></th>\n",
       "      <th>gender</th>\n",
       "      <th>status</th>\n",
       "      <th>age</th>\n",
       "      <th>height</th>\n",
       "      <th>body_type</th>\n",
       "      <th>education</th>\n",
       "      <th>income</th>\n",
       "      <th>kids</th>\n",
       "      <th>smoking</th>\n",
       "      <th>drinks</th>\n",
       "      <th>...</th>\n",
       "      <th>datespermatch</th>\n",
       "      <th>meetingloc</th>\n",
       "      <th>punctuality</th>\n",
       "      <th>comfort</th>\n",
       "      <th>meetagain</th>\n",
       "      <th>reviewtime</th>\n",
       "      <th>reflectbeforeswipe</th>\n",
       "      <th>noshow</th>\n",
       "      <th>behaviorpromt</th>\n",
       "      <th>consciousmodule</th>\n",
       "    </tr>\n",
       "  </thead>\n",
       "  <tbody>\n",
       "    <tr>\n",
       "      <th>0</th>\n",
       "      <td>m</td>\n",
       "      <td>single</td>\n",
       "      <td>18-25</td>\n",
       "      <td>75.0</td>\n",
       "      <td>a little extra</td>\n",
       "      <td>College</td>\n",
       "      <td>-1</td>\n",
       "      <td>No Kids</td>\n",
       "      <td>Occasional Smoker</td>\n",
       "      <td>socially</td>\n",
       "      <td>...</td>\n",
       "      <td>2-3</td>\n",
       "      <td>private</td>\n",
       "      <td>yes</td>\n",
       "      <td>somewhat</td>\n",
       "      <td>no</td>\n",
       "      <td>seconds</td>\n",
       "      <td>yes</td>\n",
       "      <td>no</td>\n",
       "      <td>yes</td>\n",
       "      <td>no</td>\n",
       "    </tr>\n",
       "    <tr>\n",
       "      <th>1</th>\n",
       "      <td>m</td>\n",
       "      <td>single</td>\n",
       "      <td>30-40</td>\n",
       "      <td>70.0</td>\n",
       "      <td>average</td>\n",
       "      <td>Other</td>\n",
       "      <td>80000</td>\n",
       "      <td>No Kids</td>\n",
       "      <td>Non-Smoker</td>\n",
       "      <td>often</td>\n",
       "      <td>...</td>\n",
       "      <td>2-3</td>\n",
       "      <td>private</td>\n",
       "      <td>yes</td>\n",
       "      <td>no</td>\n",
       "      <td>no</td>\n",
       "      <td>seconds</td>\n",
       "      <td>no</td>\n",
       "      <td>yes</td>\n",
       "      <td>yes</td>\n",
       "      <td>no</td>\n",
       "    </tr>\n",
       "    <tr>\n",
       "      <th>2</th>\n",
       "      <td>m</td>\n",
       "      <td>available</td>\n",
       "      <td>30-40</td>\n",
       "      <td>68.0</td>\n",
       "      <td>thin</td>\n",
       "      <td>Masters</td>\n",
       "      <td>-1</td>\n",
       "      <td>No Comment</td>\n",
       "      <td>Non-Smoker</td>\n",
       "      <td>socially</td>\n",
       "      <td>...</td>\n",
       "      <td>2-3</td>\n",
       "      <td>private</td>\n",
       "      <td>yes</td>\n",
       "      <td>no</td>\n",
       "      <td>no</td>\n",
       "      <td>seconds</td>\n",
       "      <td>no</td>\n",
       "      <td>yes</td>\n",
       "      <td>yes</td>\n",
       "      <td>no</td>\n",
       "    </tr>\n",
       "    <tr>\n",
       "      <th>3</th>\n",
       "      <td>m</td>\n",
       "      <td>single</td>\n",
       "      <td>18-25</td>\n",
       "      <td>71.0</td>\n",
       "      <td>thin</td>\n",
       "      <td>College</td>\n",
       "      <td>20000</td>\n",
       "      <td>Doesn't Want Kids</td>\n",
       "      <td>Non-Smoker</td>\n",
       "      <td>socially</td>\n",
       "      <td>...</td>\n",
       "      <td>2-3</td>\n",
       "      <td>private</td>\n",
       "      <td>yes</td>\n",
       "      <td>somewhat</td>\n",
       "      <td>no</td>\n",
       "      <td>seconds</td>\n",
       "      <td>yes</td>\n",
       "      <td>no</td>\n",
       "      <td>yes</td>\n",
       "      <td>no</td>\n",
       "    </tr>\n",
       "    <tr>\n",
       "      <th>4</th>\n",
       "      <td>m</td>\n",
       "      <td>single</td>\n",
       "      <td>25-30</td>\n",
       "      <td>66.0</td>\n",
       "      <td>athletic</td>\n",
       "      <td>College</td>\n",
       "      <td>-1</td>\n",
       "      <td>No Comment</td>\n",
       "      <td>Non-Smoker</td>\n",
       "      <td>socially</td>\n",
       "      <td>...</td>\n",
       "      <td>more than 3</td>\n",
       "      <td>public</td>\n",
       "      <td>no</td>\n",
       "      <td>somewhat</td>\n",
       "      <td>maybe</td>\n",
       "      <td>seconds</td>\n",
       "      <td>yes</td>\n",
       "      <td>no</td>\n",
       "      <td>neutral</td>\n",
       "      <td>no</td>\n",
       "    </tr>\n",
       "  </tbody>\n",
       "</table>\n",
       "<p>5 rows × 26 columns</p>\n",
       "</div>"
      ],
      "text/plain": [
       "  gender     status    age  height       body_type education  income  \\\n",
       "0      m     single  18-25    75.0  a little extra   College      -1   \n",
       "1      m     single  30-40    70.0         average     Other   80000   \n",
       "2      m  available  30-40    68.0            thin   Masters      -1   \n",
       "3      m     single  18-25    71.0            thin   College   20000   \n",
       "4      m     single  25-30    66.0        athletic   College      -1   \n",
       "\n",
       "                kids            smoking    drinks  ... datespermatch  \\\n",
       "0            No Kids  Occasional Smoker  socially  ...           2-3   \n",
       "1            No Kids         Non-Smoker     often  ...           2-3   \n",
       "2         No Comment         Non-Smoker  socially  ...           2-3   \n",
       "3  Doesn't Want Kids         Non-Smoker  socially  ...           2-3   \n",
       "4         No Comment         Non-Smoker  socially  ...   more than 3   \n",
       "\n",
       "  meetingloc punctuality   comfort meetagain reviewtime reflectbeforeswipe  \\\n",
       "0    private         yes  somewhat        no    seconds                yes   \n",
       "1    private         yes        no        no    seconds                 no   \n",
       "2    private         yes        no        no    seconds                 no   \n",
       "3    private         yes  somewhat        no    seconds                yes   \n",
       "4     public          no  somewhat     maybe    seconds                yes   \n",
       "\n",
       "  noshow behaviorpromt consciousmodule  \n",
       "0     no           yes              no  \n",
       "1    yes           yes              no  \n",
       "2    yes           yes              no  \n",
       "3     no           yes              no  \n",
       "4     no       neutral              no  \n",
       "\n",
       "[5 rows x 26 columns]"
      ]
     },
     "execution_count": 65,
     "metadata": {},
     "output_type": "execute_result"
    }
   ],
   "source": [
    "merged_df.head()"
   ]
  },
  {
   "cell_type": "code",
   "execution_count": 66,
   "metadata": {},
   "outputs": [],
   "source": [
    "merged_df.to_csv('merged_data.csv', index=False)\n",
    "merged_df.to_excel('merged_data.xlsx', index=False)"
   ]
  },
  {
   "cell_type": "code",
   "execution_count": 67,
   "metadata": {},
   "outputs": [
    {
     "name": "stdout",
     "output_type": "stream",
     "text": [
      "\n",
      "Gender Distribution:\n",
      "gender\n",
      "m        31073\n",
      "f        20533\n",
      "other     8340\n",
      "Name: count, dtype: int64\n",
      "\n",
      "Age Distribution:\n",
      "age\n",
      "30-40    19846\n",
      "25-30    17818\n",
      "18-25    10923\n",
      "40-50     7338\n",
      "50+       4021\n",
      "Name: count, dtype: int64\n"
     ]
    }
   ],
   "source": [
    "# Gender distribution\n",
    "print(\"\\nGender Distribution:\")\n",
    "print(merged_df['gender'].value_counts())\n",
    "\n",
    "# Age group distribution\n",
    "print(\"\\nAge Distribution:\")\n",
    "print(merged_df['age'].value_counts())"
   ]
  },
  {
   "cell_type": "markdown",
   "metadata": {},
   "source": [
    "<h1 style=\"color:#6a9fb5;\">Distributions </h1>"
   ]
  },
  {
   "cell_type": "code",
   "execution_count": 68,
   "metadata": {},
   "outputs": [
    {
     "data": {
      "image/png": "[encoded data removed]",
      "text/plain": [
       "<Figure size 1200x600 with 1 Axes>"
      ]
     },
     "metadata": {},
     "output_type": "display_data"
    }
   ],
   "source": [
    "import matplotlib.pyplot as plt\n",
    "import seaborn as sns\n",
    "\n",
    "# Plot the histogram for age and income\n",
    "plt.figure(figsize=(12, 6))\n",
    "\n",
    "# Age distribution\n",
    "plt.subplot(1, 2, 1)\n",
    "sns.histplot(data=merged_df, x='age', kde=True)\n",
    "plt.title('Age Distribution')\n",
    "plt.xlabel('Age')\n",
    "plt.ylabel('Count')\n",
    "\n",
    "plt.tight_layout()\n",
    "plt.show()"
   ]
  },
  {
   "cell_type": "code",
   "execution_count": 112,
   "metadata": {},
   "outputs": [
    {
     "data": {
      "image/png": "[encoded data removed]",
      "text/plain": [
       "<Figure size 1200x600 with 1 Axes>"
      ]
     },
     "metadata": {},
     "output_type": "display_data"
    }
   ],
   "source": [
    "grouped_status = merged_df.groupby(['age', 'status']).size().unstack()\n",
    "grouped_status\n",
    "\n",
    "\n",
    "status_colors = sns.color_palette(\"Blues\", n_colors=grouped_status.shape[1])\n",
    "\n",
    "status_mapping = {'seeing someone': 'orange', 'married': 'red'}\n",
    "\n",
    "final_colors = [status_mapping.get(status, status_colors[i]) for i, status in enumerate(grouped_status.columns)]\n",
    "\n",
    "# Plot with updated colors\n",
    "grouped_status.plot(kind='bar', stacked=True, color=final_colors, figsize=(12, 6))\n",
    "plt.title('Age and Status Distribution')\n",
    "plt.xlabel('Age')\n",
    "plt.ylabel('Count')\n",
    "plt.legend(title='Status')\n",
    "plt.xticks(rotation=45)\n",
    "plt.tight_layout()\n",
    "plt.show()\n"
   ]
  },
  {
   "cell_type": "code",
   "execution_count": 69,
   "metadata": {},
   "outputs": [
    {
     "data": {
      "image/png": "[encoded data removed]",
      "text/plain": [
       "<Figure size 1200x600 with 1 Axes>"
      ]
     },
     "metadata": {},
     "output_type": "display_data"
    }
   ],
   "source": [
    "# Income distribution bar plot\n",
    "plt.figure(figsize=(12, 6))\n",
    "sns.histplot(data=merged_df, x='income', kde=True, bins=30)\n",
    "plt.title('Income Distribution')\n",
    "plt.xlabel('Income')\n",
    "plt.ylabel('Count')\n",
    "plt.tight_layout()\n",
    "plt.show()"
   ]
  },
  {
   "cell_type": "code",
   "execution_count": 70,
   "metadata": {},
   "outputs": [
    {
     "data": {
      "text/html": [
       "<div>\n",
       "<style scoped>\n",
       "    .dataframe tbody tr th:only-of-type {\n",
       "        vertical-align: middle;\n",
       "    }\n",
       "\n",
       "    .dataframe tbody tr th {\n",
       "        vertical-align: top;\n",
       "    }\n",
       "\n",
       "    .dataframe thead th {\n",
       "        text-align: right;\n",
       "    }\n",
       "</style>\n",
       "<table border=\"1\" class=\"dataframe\">\n",
       "  <thead>\n",
       "    <tr style=\"text-align: right;\">\n",
       "      <th>meetingloc</th>\n",
       "      <th>depends</th>\n",
       "      <th>private</th>\n",
       "      <th>public</th>\n",
       "    </tr>\n",
       "    <tr>\n",
       "      <th>smoking</th>\n",
       "      <th></th>\n",
       "      <th></th>\n",
       "      <th></th>\n",
       "    </tr>\n",
       "  </thead>\n",
       "  <tbody>\n",
       "    <tr>\n",
       "      <th>Non-Smoker</th>\n",
       "      <td>13.23</td>\n",
       "      <td>57.52</td>\n",
       "      <td>29.25</td>\n",
       "    </tr>\n",
       "    <tr>\n",
       "      <th>Smoker</th>\n",
       "      <td>7.61</td>\n",
       "      <td>60.44</td>\n",
       "      <td>31.95</td>\n",
       "    </tr>\n",
       "  </tbody>\n",
       "</table>\n",
       "</div>"
      ],
      "text/plain": [
       "meetingloc  depends  private  public\n",
       "smoking                             \n",
       "Non-Smoker    13.23    57.52   29.25\n",
       "Smoker         7.61    60.44   31.95"
      ]
     },
     "execution_count": 70,
     "metadata": {},
     "output_type": "execute_result"
    }
   ],
   "source": [
    "grouped_df = round(pd.crosstab(merged_df['smoking'].replace(['Occasional Smoker', 'Quitting Smoker', 'Regular Smoker'], 'Smoker'), merged_df['meetingloc'], \n",
    "                        normalize='index') * 100, 2)\n",
    "grouped_df"
   ]
  },
  {
   "cell_type": "code",
   "execution_count": 71,
   "metadata": {},
   "outputs": [
    {
     "data": {
      "text/html": [
       "<div>\n",
       "<style scoped>\n",
       "    .dataframe tbody tr th:only-of-type {\n",
       "        vertical-align: middle;\n",
       "    }\n",
       "\n",
       "    .dataframe tbody tr th {\n",
       "        vertical-align: top;\n",
       "    }\n",
       "\n",
       "    .dataframe thead th {\n",
       "        text-align: right;\n",
       "    }\n",
       "</style>\n",
       "<table border=\"1\" class=\"dataframe\">\n",
       "  <thead>\n",
       "    <tr style=\"text-align: right;\">\n",
       "      <th>kids</th>\n",
       "      <th>Doesn't Want Kids</th>\n",
       "      <th>Has Kids</th>\n",
       "      <th>No Comment</th>\n",
       "      <th>No Kids</th>\n",
       "      <th>Wants Kids</th>\n",
       "    </tr>\n",
       "    <tr>\n",
       "      <th>education</th>\n",
       "      <th></th>\n",
       "      <th></th>\n",
       "      <th></th>\n",
       "      <th></th>\n",
       "      <th></th>\n",
       "    </tr>\n",
       "  </thead>\n",
       "  <tbody>\n",
       "    <tr>\n",
       "      <th>College</th>\n",
       "      <td>5.14</td>\n",
       "      <td>7.34</td>\n",
       "      <td>58.61</td>\n",
       "      <td>28.24</td>\n",
       "      <td>0.67</td>\n",
       "    </tr>\n",
       "    <tr>\n",
       "      <th>High School</th>\n",
       "      <td>7.88</td>\n",
       "      <td>16.99</td>\n",
       "      <td>45.42</td>\n",
       "      <td>28.78</td>\n",
       "      <td>0.93</td>\n",
       "    </tr>\n",
       "    <tr>\n",
       "      <th>Masters</th>\n",
       "      <td>4.24</td>\n",
       "      <td>8.75</td>\n",
       "      <td>57.77</td>\n",
       "      <td>28.42</td>\n",
       "      <td>0.82</td>\n",
       "    </tr>\n",
       "    <tr>\n",
       "      <th>Other</th>\n",
       "      <td>4.86</td>\n",
       "      <td>8.78</td>\n",
       "      <td>67.12</td>\n",
       "      <td>18.71</td>\n",
       "      <td>0.53</td>\n",
       "    </tr>\n",
       "    <tr>\n",
       "      <th>Ph.D.</th>\n",
       "      <td>3.99</td>\n",
       "      <td>8.39</td>\n",
       "      <td>59.84</td>\n",
       "      <td>27.03</td>\n",
       "      <td>0.75</td>\n",
       "    </tr>\n",
       "    <tr>\n",
       "      <th>Professional</th>\n",
       "      <td>2.61</td>\n",
       "      <td>9.91</td>\n",
       "      <td>59.03</td>\n",
       "      <td>28.02</td>\n",
       "      <td>0.43</td>\n",
       "    </tr>\n",
       "  </tbody>\n",
       "</table>\n",
       "</div>"
      ],
      "text/plain": [
       "kids          Doesn't Want Kids  Has Kids  No Comment  No Kids  Wants Kids\n",
       "education                                                                 \n",
       "College                    5.14      7.34       58.61    28.24        0.67\n",
       "High School                7.88     16.99       45.42    28.78        0.93\n",
       "Masters                    4.24      8.75       57.77    28.42        0.82\n",
       "Other                      4.86      8.78       67.12    18.71        0.53\n",
       "Ph.D.                      3.99      8.39       59.84    27.03        0.75\n",
       "Professional               2.61      9.91       59.03    28.02        0.43"
      ]
     },
     "execution_count": 71,
     "metadata": {},
     "output_type": "execute_result"
    }
   ],
   "source": [
    "crosstab_education = round(pd.crosstab(merged_df['education'], merged_df['kids'], normalize='index') * 100, 2)\n",
    "crosstab_education"
   ]
  },
  {
   "cell_type": "code",
   "execution_count": 72,
   "metadata": {},
   "outputs": [
    {
     "data": {
      "text/html": [
       "<div>\n",
       "<style scoped>\n",
       "    .dataframe tbody tr th:only-of-type {\n",
       "        vertical-align: middle;\n",
       "    }\n",
       "\n",
       "    .dataframe tbody tr th {\n",
       "        vertical-align: top;\n",
       "    }\n",
       "\n",
       "    .dataframe thead th {\n",
       "        text-align: right;\n",
       "    }\n",
       "</style>\n",
       "<table border=\"1\" class=\"dataframe\">\n",
       "  <thead>\n",
       "    <tr style=\"text-align: right;\">\n",
       "      <th>education</th>\n",
       "      <th>College</th>\n",
       "      <th>High School</th>\n",
       "      <th>Masters</th>\n",
       "      <th>Other</th>\n",
       "      <th>Ph.D.</th>\n",
       "      <th>Professional</th>\n",
       "    </tr>\n",
       "    <tr>\n",
       "      <th>language</th>\n",
       "      <th></th>\n",
       "      <th></th>\n",
       "      <th></th>\n",
       "      <th></th>\n",
       "      <th></th>\n",
       "      <th></th>\n",
       "    </tr>\n",
       "  </thead>\n",
       "  <tbody>\n",
       "    <tr>\n",
       "      <th>Basic English Speaker</th>\n",
       "      <td>53.92</td>\n",
       "      <td>4.58</td>\n",
       "      <td>14.50</td>\n",
       "      <td>21.41</td>\n",
       "      <td>3.39</td>\n",
       "      <td>2.20</td>\n",
       "    </tr>\n",
       "    <tr>\n",
       "      <th>Bilingual Fluent</th>\n",
       "      <td>56.74</td>\n",
       "      <td>2.19</td>\n",
       "      <td>22.89</td>\n",
       "      <td>9.10</td>\n",
       "      <td>5.66</td>\n",
       "      <td>3.41</td>\n",
       "    </tr>\n",
       "    <tr>\n",
       "      <th>English Fluent Only</th>\n",
       "      <td>62.60</td>\n",
       "      <td>3.02</td>\n",
       "      <td>18.05</td>\n",
       "      <td>9.12</td>\n",
       "      <td>3.84</td>\n",
       "      <td>3.39</td>\n",
       "    </tr>\n",
       "    <tr>\n",
       "      <th>Multilingual Fluent</th>\n",
       "      <td>46.82</td>\n",
       "      <td>1.66</td>\n",
       "      <td>29.91</td>\n",
       "      <td>7.53</td>\n",
       "      <td>9.97</td>\n",
       "      <td>4.11</td>\n",
       "    </tr>\n",
       "    <tr>\n",
       "      <th>Unknown</th>\n",
       "      <td>54.81</td>\n",
       "      <td>2.85</td>\n",
       "      <td>17.04</td>\n",
       "      <td>18.02</td>\n",
       "      <td>3.59</td>\n",
       "      <td>3.68</td>\n",
       "    </tr>\n",
       "  </tbody>\n",
       "</table>\n",
       "</div>"
      ],
      "text/plain": [
       "education              College  High School  Masters  Other  Ph.D.  \\\n",
       "language                                                             \n",
       "Basic English Speaker    53.92         4.58    14.50  21.41   3.39   \n",
       "Bilingual Fluent         56.74         2.19    22.89   9.10   5.66   \n",
       "English Fluent Only      62.60         3.02    18.05   9.12   3.84   \n",
       "Multilingual Fluent      46.82         1.66    29.91   7.53   9.97   \n",
       "Unknown                  54.81         2.85    17.04  18.02   3.59   \n",
       "\n",
       "education              Professional  \n",
       "language                             \n",
       "Basic English Speaker          2.20  \n",
       "Bilingual Fluent               3.41  \n",
       "English Fluent Only            3.39  \n",
       "Multilingual Fluent            4.11  \n",
       "Unknown                        3.68  "
      ]
     },
     "execution_count": 72,
     "metadata": {},
     "output_type": "execute_result"
    }
   ],
   "source": [
    "crosstab_language = round(pd.crosstab(merged_df['language'], merged_df['education'], normalize='index') * 100, 2)\n",
    "crosstab_language"
   ]
  },
  {
   "cell_type": "code",
   "execution_count": 83,
   "metadata": {},
   "outputs": [
    {
     "data": {
      "text/html": [
       "<div>\n",
       "<style scoped>\n",
       "    .dataframe tbody tr th:only-of-type {\n",
       "        vertical-align: middle;\n",
       "    }\n",
       "\n",
       "    .dataframe tbody tr th {\n",
       "        vertical-align: top;\n",
       "    }\n",
       "\n",
       "    .dataframe thead th {\n",
       "        text-align: right;\n",
       "    }\n",
       "</style>\n",
       "<table border=\"1\" class=\"dataframe\">\n",
       "  <thead>\n",
       "    <tr style=\"text-align: right;\">\n",
       "      <th>drugs</th>\n",
       "      <th>never</th>\n",
       "      <th>no comment</th>\n",
       "      <th>often</th>\n",
       "      <th>sometimes</th>\n",
       "    </tr>\n",
       "    <tr>\n",
       "      <th>age</th>\n",
       "      <th></th>\n",
       "      <th></th>\n",
       "      <th></th>\n",
       "      <th></th>\n",
       "    </tr>\n",
       "  </thead>\n",
       "  <tbody>\n",
       "    <tr>\n",
       "      <th>18-25</th>\n",
       "      <td>57.99</td>\n",
       "      <td>21.29</td>\n",
       "      <td>1.87</td>\n",
       "      <td>18.86</td>\n",
       "    </tr>\n",
       "    <tr>\n",
       "      <th>25-30</th>\n",
       "      <td>59.37</td>\n",
       "      <td>25.48</td>\n",
       "      <td>0.67</td>\n",
       "      <td>14.49</td>\n",
       "    </tr>\n",
       "    <tr>\n",
       "      <th>30-40</th>\n",
       "      <td>62.94</td>\n",
       "      <td>25.61</td>\n",
       "      <td>0.34</td>\n",
       "      <td>11.10</td>\n",
       "    </tr>\n",
       "    <tr>\n",
       "      <th>40-50</th>\n",
       "      <td>69.90</td>\n",
       "      <td>21.75</td>\n",
       "      <td>0.18</td>\n",
       "      <td>8.18</td>\n",
       "    </tr>\n",
       "    <tr>\n",
       "      <th>50+</th>\n",
       "      <td>79.36</td>\n",
       "      <td>13.33</td>\n",
       "      <td>0.15</td>\n",
       "      <td>7.16</td>\n",
       "    </tr>\n",
       "  </tbody>\n",
       "</table>\n",
       "</div>"
      ],
      "text/plain": [
       "drugs  never  no comment  often  sometimes\n",
       "age                                       \n",
       "18-25  57.99       21.29   1.87      18.86\n",
       "25-30  59.37       25.48   0.67      14.49\n",
       "30-40  62.94       25.61   0.34      11.10\n",
       "40-50  69.90       21.75   0.18       8.18\n",
       "50+    79.36       13.33   0.15       7.16"
      ]
     },
     "execution_count": 83,
     "metadata": {},
     "output_type": "execute_result"
    }
   ],
   "source": [
    "age_drugs = round(pd.crosstab(merged_df['age'], merged_df['drugs'], normalize='index') * 100, 2)\n",
    "age_drugs"
   ]
  },
  {
   "cell_type": "code",
   "execution_count": 87,
   "metadata": {},
   "outputs": [
    {
     "data": {
      "text/html": [
       "<div>\n",
       "<style scoped>\n",
       "    .dataframe tbody tr th:only-of-type {\n",
       "        vertical-align: middle;\n",
       "    }\n",
       "\n",
       "    .dataframe tbody tr th {\n",
       "        vertical-align: top;\n",
       "    }\n",
       "\n",
       "    .dataframe thead th {\n",
       "        text-align: right;\n",
       "    }\n",
       "</style>\n",
       "<table border=\"1\" class=\"dataframe\">\n",
       "  <thead>\n",
       "    <tr style=\"text-align: right;\">\n",
       "      <th>income</th>\n",
       "      <th>-1</th>\n",
       "      <th>20000</th>\n",
       "      <th>30000</th>\n",
       "      <th>40000</th>\n",
       "      <th>50000</th>\n",
       "      <th>60000</th>\n",
       "      <th>70000</th>\n",
       "      <th>80000</th>\n",
       "      <th>100000</th>\n",
       "      <th>150000</th>\n",
       "      <th>250000</th>\n",
       "      <th>500000</th>\n",
       "      <th>1000000</th>\n",
       "    </tr>\n",
       "    <tr>\n",
       "      <th>drugs</th>\n",
       "      <th></th>\n",
       "      <th></th>\n",
       "      <th></th>\n",
       "      <th></th>\n",
       "      <th></th>\n",
       "      <th></th>\n",
       "      <th></th>\n",
       "      <th></th>\n",
       "      <th></th>\n",
       "      <th></th>\n",
       "      <th></th>\n",
       "      <th></th>\n",
       "      <th></th>\n",
       "    </tr>\n",
       "  </thead>\n",
       "  <tbody>\n",
       "    <tr>\n",
       "      <th>never</th>\n",
       "      <td>80.55</td>\n",
       "      <td>4.36</td>\n",
       "      <td>1.70</td>\n",
       "      <td>1.75</td>\n",
       "      <td>1.75</td>\n",
       "      <td>1.34</td>\n",
       "      <td>1.33</td>\n",
       "      <td>2.09</td>\n",
       "      <td>2.99</td>\n",
       "      <td>1.21</td>\n",
       "      <td>0.28</td>\n",
       "      <td>0.07</td>\n",
       "      <td>0.56</td>\n",
       "    </tr>\n",
       "    <tr>\n",
       "      <th>no comment</th>\n",
       "      <td>87.13</td>\n",
       "      <td>2.66</td>\n",
       "      <td>1.08</td>\n",
       "      <td>1.06</td>\n",
       "      <td>1.14</td>\n",
       "      <td>0.87</td>\n",
       "      <td>0.83</td>\n",
       "      <td>1.21</td>\n",
       "      <td>2.07</td>\n",
       "      <td>0.81</td>\n",
       "      <td>0.18</td>\n",
       "      <td>0.08</td>\n",
       "      <td>0.88</td>\n",
       "    </tr>\n",
       "    <tr>\n",
       "      <th>yes</th>\n",
       "      <td>71.08</td>\n",
       "      <td>11.43</td>\n",
       "      <td>3.11</td>\n",
       "      <td>2.39</td>\n",
       "      <td>1.90</td>\n",
       "      <td>1.31</td>\n",
       "      <td>1.11</td>\n",
       "      <td>1.85</td>\n",
       "      <td>2.47</td>\n",
       "      <td>0.72</td>\n",
       "      <td>0.22</td>\n",
       "      <td>0.12</td>\n",
       "      <td>2.27</td>\n",
       "    </tr>\n",
       "  </tbody>\n",
       "</table>\n",
       "</div>"
      ],
      "text/plain": [
       "income      -1         20000     30000     40000     50000     60000    \\\n",
       "drugs                                                                    \n",
       "never          80.55      4.36      1.70      1.75      1.75      1.34   \n",
       "no comment     87.13      2.66      1.08      1.06      1.14      0.87   \n",
       "yes            71.08     11.43      3.11      2.39      1.90      1.31   \n",
       "\n",
       "income       70000     80000     100000    150000    250000    500000   \\\n",
       "drugs                                                                    \n",
       "never           1.33      2.09      2.99      1.21      0.28      0.07   \n",
       "no comment      0.83      1.21      2.07      0.81      0.18      0.08   \n",
       "yes             1.11      1.85      2.47      0.72      0.22      0.12   \n",
       "\n",
       "income       1000000  \n",
       "drugs                 \n",
       "never           0.56  \n",
       "no comment      0.88  \n",
       "yes             2.27  "
      ]
     },
     "execution_count": 87,
     "metadata": {},
     "output_type": "execute_result"
    }
   ],
   "source": [
    "income_drugs = round(pd.crosstab(merged_df['drugs'].replace(['often','sometimes'], 'yes'), merged_df['income'], normalize='index') * 100, 2)\n",
    "income_drugs"
   ]
  },
  {
   "cell_type": "code",
   "execution_count": 73,
   "metadata": {},
   "outputs": [
    {
     "data": {
      "image/png": "[encoded data removed]",
      "text/plain": [
       "<Figure size 800x500 with 1 Axes>"
      ]
     },
     "metadata": {},
     "output_type": "display_data"
    }
   ],
   "source": [
    "plt.figure(figsize=(8, 5))\n",
    "sns.countplot(data=merged_df, x='smoking', hue='gender', palette=\"Blues\")  # Consistent 'Blues' palette\n",
    "plt.title('Smoking Habits by Gender')\n",
    "plt.xlabel('Smoking Habits')\n",
    "plt.ylabel('Count')\n",
    "plt.show()"
   ]
  },
  {
   "cell_type": "code",
   "execution_count": 79,
   "metadata": {},
   "outputs": [
    {
     "data": {
      "text/html": [
       "<div>\n",
       "<style scoped>\n",
       "    .dataframe tbody tr th:only-of-type {\n",
       "        vertical-align: middle;\n",
       "    }\n",
       "\n",
       "    .dataframe tbody tr th {\n",
       "        vertical-align: top;\n",
       "    }\n",
       "\n",
       "    .dataframe thead th {\n",
       "        text-align: right;\n",
       "    }\n",
       "</style>\n",
       "<table border=\"1\" class=\"dataframe\">\n",
       "  <thead>\n",
       "    <tr style=\"text-align: right;\">\n",
       "      <th>drinks</th>\n",
       "      <th>desperately</th>\n",
       "      <th>no comment</th>\n",
       "      <th>not at all</th>\n",
       "      <th>often</th>\n",
       "      <th>rarely</th>\n",
       "      <th>socially</th>\n",
       "      <th>very often</th>\n",
       "    </tr>\n",
       "    <tr>\n",
       "      <th>smoking</th>\n",
       "      <th></th>\n",
       "      <th></th>\n",
       "      <th></th>\n",
       "      <th></th>\n",
       "      <th></th>\n",
       "      <th></th>\n",
       "      <th></th>\n",
       "    </tr>\n",
       "  </thead>\n",
       "  <tbody>\n",
       "    <tr>\n",
       "      <th>Non-Smoker</th>\n",
       "      <td>0.40</td>\n",
       "      <td>5.74</td>\n",
       "      <td>5.73</td>\n",
       "      <td>6.66</td>\n",
       "      <td>10.55</td>\n",
       "      <td>70.5</td>\n",
       "      <td>0.42</td>\n",
       "    </tr>\n",
       "    <tr>\n",
       "      <th>Smoker</th>\n",
       "      <td>1.19</td>\n",
       "      <td>1.42</td>\n",
       "      <td>4.13</td>\n",
       "      <td>17.76</td>\n",
       "      <td>7.08</td>\n",
       "      <td>65.9</td>\n",
       "      <td>2.51</td>\n",
       "    </tr>\n",
       "  </tbody>\n",
       "</table>\n",
       "</div>"
      ],
      "text/plain": [
       "drinks      desperately  no comment  not at all  often  rarely  socially  \\\n",
       "smoking                                                                    \n",
       "Non-Smoker         0.40        5.74        5.73   6.66   10.55      70.5   \n",
       "Smoker             1.19        1.42        4.13  17.76    7.08      65.9   \n",
       "\n",
       "drinks      very often  \n",
       "smoking                 \n",
       "Non-Smoker        0.42  \n",
       "Smoker            2.51  "
      ]
     },
     "execution_count": 79,
     "metadata": {},
     "output_type": "execute_result"
    }
   ],
   "source": [
    "crosstab_drinkers = round(pd.crosstab(merged_df['smoking'].replace(['Occasional Smoker', 'Quitting Smoker', 'Regular Smoker'], 'Smoker'), merged_df['drinks'], normalize='index') * 100, 2)\n",
    "crosstab_drinkers"
   ]
  },
  {
   "cell_type": "code",
   "execution_count": 74,
   "metadata": {},
   "outputs": [
    {
     "data": {
      "image/png": "[encoded data removed]",
      "text/plain": [
       "<Figure size 1000x600 with 1 Axes>"
      ]
     },
     "metadata": {},
     "output_type": "display_data"
    }
   ],
   "source": [
    "import seaborn as sns\n",
    "import matplotlib.pyplot as plt\n",
    "\n",
    "# Create a bar plot to compare ghosting experience against dates per match\n",
    "plt.figure(figsize=(10, 6))\n",
    "sns.countplot(\n",
    "    data=merged_df,\n",
    "    x='datespermatch',\n",
    "    hue='ghostingexp',\n",
    "    palette=\"Blues\"\n",
    ")\n",
    "\n",
    "# Customize the plot\n",
    "plt.title('Ghosting Experience vs. Dates per Match', fontsize=16)\n",
    "plt.xlabel('Dates Per Match', fontsize=14)\n",
    "plt.ylabel('Count', fontsize=14)\n",
    "plt.legend(title='Ghosting Experience', loc='upper right')\n",
    "plt.grid(axis='y', linestyle='--', alpha=0.7)\n",
    "plt.tight_layout()\n",
    "\n",
    "# Display the plot\n",
    "plt.show()"
   ]
  },
  {
   "cell_type": "code",
   "execution_count": 89,
   "metadata": {},
   "outputs": [
    {
     "name": "stdout",
     "output_type": "stream",
     "text": [
      "Null Hypothesis (H₀): There is no significant relationship between ghosting experience and dates per match.\n",
      "\n",
      "Alternate Hypothesis (H₁): There is a significant relationship between ghosting experience and dates per match.\n"
     ]
    }
   ],
   "source": [
    "null_hypothesis = \"There is no significant relationship between ghosting experience and dates per match.\"\n",
    "alternative_hypothesis = \"There is a significant relationship between ghosting experience and dates per match.\"\n",
    "\n",
    "print(f\"Null Hypothesis (H₀): {null_hypothesis}\")\n",
    "print()\n",
    "print(f\"Alternate Hypothesis (H₁): {alternative_hypothesis}\")"
   ]
  },
  {
   "cell_type": "code",
   "execution_count": 101,
   "metadata": {},
   "outputs": [
    {
     "name": "stdout",
     "output_type": "stream",
     "text": [
      "Chi-Square Statistic: 59946.0\n",
      "P-value: 0.0000\n",
      "Degrees of Freedom: 2\n",
      "Critical Value: 5.9915\n"
     ]
    }
   ],
   "source": [
    "alpha = 0.05  # Set the significance level\n",
    "\n",
    "from scipy.stats import chi2_contingency\n",
    "\n",
    "# Perform the chi-square test\n",
    "\n",
    "chi2_stat, p_val, dof, expected = chi2_contingency(pd.crosstab(merged_df['datespermatch'], merged_df['ghostingexp']))\n",
    "critical_value = chi2.ppf(1 - alpha, dof)\n",
    "\n",
    "print(f\"Chi-Square Statistic: {chi2_stat}\")\n",
    "print(f\"P-value: {p_val:.4f}\")\n",
    "print(f\"Degrees of Freedom: {dof}\")\n",
    "print(f\"Critical Value: {critical_value:.4f}\")\n"
   ]
  },
  {
   "cell_type": "code",
   "execution_count": 75,
   "metadata": {},
   "outputs": [
    {
     "data": {
      "image/png": "[encoded data removed]",
      "text/plain": [
       "<Figure size 1000x600 with 1 Axes>"
      ]
     },
     "metadata": {},
     "output_type": "display_data"
    }
   ],
   "source": [
    "import seaborn as sns\n",
    "import matplotlib.pyplot as plt\n",
    "\n",
    "# Create a bar plot to compare education levels against 'reflect before swipe' behavior\n",
    "plt.figure(figsize=(10, 6))\n",
    "sns.countplot(\n",
    "    data=merged_df,\n",
    "    x='education',\n",
    "    hue='reflectbeforeswipe',\n",
    "    palette=\"Blues\"\n",
    ")\n",
    "\n",
    "# Customize the plot\n",
    "plt.title('Education vs. Reflect Before Swipe Behavior', fontsize=16)\n",
    "plt.xlabel('Education Level', fontsize=14)\n",
    "plt.ylabel('Count', fontsize=14)\n",
    "plt.xticks(rotation=45, ha='right')  # Rotate x-axis labels for readability\n",
    "plt.legend(title='Reflect Before Swipe', loc='upper right')\n",
    "plt.grid(axis='y', linestyle='--', alpha=0.7)\n",
    "plt.tight_layout()\n",
    "\n",
    "# Display the plot\n",
    "plt.show()"
   ]
  },
  {
   "cell_type": "code",
   "execution_count": 100,
   "metadata": {},
   "outputs": [
    {
     "name": "stdout",
     "output_type": "stream",
     "text": [
      "Chi-Square Statistic: 978.4492212793926\n",
      "P-value: 0.0000\n",
      "Degrees of Freedom: 5\n",
      "Critical Value: 11.0705\n"
     ]
    }
   ],
   "source": [
    "from scipy.stats import chi2_contingency\n",
    "\n",
    "# Perform the chi-square test\n",
    "\n",
    "chi2_stat, p_val, dof, expected = chi2_contingency(pd.crosstab(merged_df['education'], merged_df['reflectbeforeswipe']))\n",
    "critical_value = chi2.ppf(1 - alpha, dof)\n",
    "\n",
    "print(f\"Chi-Square Statistic: {chi2_stat}\")\n",
    "print(f\"P-value: {p_val:.4f}\")\n",
    "print(f\"Degrees of Freedom: {dof}\")\n",
    "print(f\"Critical Value: {critical_value:.4f}\")\n"
   ]
  },
  {
   "cell_type": "code",
   "execution_count": 76,
   "metadata": {},
   "outputs": [
    {
     "data": {
      "text/plain": [
       "(59946, 36)"
      ]
     },
     "execution_count": 76,
     "metadata": {},
     "output_type": "execute_result"
    }
   ],
   "source": [
    "# For the NLP part\n",
    "# Combine merged_df with the essay columns from the original data\n",
    "nlp_data = pd.concat([merged_df, data[essay_columns]], axis=1)\n",
    "\n",
    "# Verify the new dataset\n",
    "nlp_data.head()\n",
    "nlp_data.shape"
   ]
  },
  {
   "cell_type": "code",
   "execution_count": 77,
   "metadata": {},
   "outputs": [],
   "source": [
    "nlp_data.to_csv('nlp_data.csv', index=False)"
   ]
  }
 ],
 "metadata": {
  "kernelspec": {
   "display_name": "base",
   "language": "python",
   "name": "python3"
  },
  "language_info": {
   "codemirror_mode": {
    "name": "ipython",
    "version": 3
   },
   "file_extension": ".py",
   "mimetype": "text/x-python",
   "name": "python",
   "nbconvert_exporter": "python",
   "pygments_lexer": "ipython3",
   "version": "3.12.7"
  }
 },
 "nbformat": 4,
 "nbformat_minor": 2
}
