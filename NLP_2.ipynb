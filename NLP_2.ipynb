{
 "cells": [
  {
   "cell_type": "code",
   "execution_count": 1,
   "metadata": {},
   "outputs": [],
   "source": [
    "import pandas as pd\n",
    "\n",
    "nlp = pd.read_csv('/Users/selinwork/Documents/Ironhack/Ironhack_Week_9/Kaggle_Ok_Cupid/nlp_data.csv')"
   ]
  },
  {
   "cell_type": "code",
   "execution_count": 2,
   "metadata": {},
   "outputs": [],
   "source": [
    "data = nlp.copy()"
   ]
  },
  {
   "cell_type": "code",
   "execution_count": 3,
   "metadata": {},
   "outputs": [],
   "source": [
    "# Combining all user information into one profile column for better NLP processing\n",
    "data['user_profile'] = data.apply(\n",
    "    lambda row: f\"Essays: {row['self_summary']} {row['life_work']} {row['skills']} {row['first_notice']} \"\n",
    "                f\"Favorites: {row['favorites']} Can't Live Without: {row['cant_live_without']} \"\n",
    "                f\"Thinking About: {row['thinking_about']} Friday Night: {row['friday_night']} \"\n",
    "                f\"Private Admission: {row['private_admission']} Message Me: {row['message_me_if']}. \"\n",
    "                f\"Demographics: Gender: {row['gender']}, Age: {row['age']}, \"\n",
    "                f\"Education: {row['education']}, Income: {row['income']}, \"\n",
    "                f\"Job: {row['job']}, Smoking: {row['smoking']}, Drinking: {row['drinks']}, \"\n",
    "                f\"Drugs: {row['drugs']}, Language: {row['language']}, Kids: {row['kids']}, \"\n",
    "                f\"Behavior: Ghosting Experience: {row['ghostingexp']}, Reflect Before Swipe: {row['reflectbeforeswipe']}, \"\n",
    "                f\"Conscious Module: {row['consciousmodule']}.\",\n",
    "    axis=1\n",
    ")"
   ]
  },
  {
   "cell_type": "code",
   "execution_count": 4,
   "metadata": {},
   "outputs": [
    {
     "name": "stderr",
     "output_type": "stream",
     "text": [
      "[nltk_data] Downloading package wordnet to\n",
      "[nltk_data]     /Users/selinwork/nltk_data...\n",
      "[nltk_data]   Package wordnet is already up-to-date!\n",
      "[nltk_data] Downloading package punkt to /Users/selinwork/nltk_data...\n",
      "[nltk_data]   Package punkt is already up-to-date!\n",
      "[nltk_data] Downloading package stopwords to\n",
      "[nltk_data]     /Users/selinwork/nltk_data...\n",
      "[nltk_data]   Package stopwords is already up-to-date!\n"
     ]
    }
   ],
   "source": [
    "import re\n",
    "from nltk.corpus import stopwords\n",
    "from nltk.tokenize import word_tokenize\n",
    "from nltk.stem import WordNetLemmatizer\n",
    "import nltk\n",
    "\n",
    "# Download necessary NLTK data\n",
    "nltk.download('wordnet')\n",
    "nltk.download('punkt')\n",
    "nltk.download('stopwords')\n",
    "\n",
    "# Initialize stopwords and lemmatizer\n",
    "stop_words = set(stopwords.words('english'))\n",
    "lemmatizer = WordNetLemmatizer()\n",
    "\n",
    "# Define preprocessing function\n",
    "def preprocess_text(text):\n",
    "    text = text.lower()\n",
    "    text = re.sub(r'\\W+', ' ', text)\n",
    "    tokens = word_tokenize(text)\n",
    "    tokens = [lemmatizer.lemmatize(word) for word in tokens if word not in stop_words]\n",
    "    return ' '.join(tokens)\n",
    "\n",
    "# Apply preprocessing function to user profiles\n",
    "data['user_profile'] = data['user_profile'].apply(preprocess_text)\n",
    "\n"
   ]
  },
  {
   "cell_type": "code",
   "execution_count": 5,
   "metadata": {},
   "outputs": [
    {
     "data": {
      "text/plain": [
       "0    essay would love think kind intellectual eithe...\n",
       "1    essay chef mean 1 workaholic 2 love cook regar...\n",
       "2    essay ashamed much writing public text online ...\n",
       "3    essay work library go school reading thing wri...\n",
       "4    essay hey going currently vague profile know c...\n",
       "Name: user_profile, dtype: object"
      ]
     },
     "execution_count": 5,
     "metadata": {},
     "output_type": "execute_result"
    }
   ],
   "source": [
    "data['user_profile'].head()"
   ]
  },
  {
   "cell_type": "code",
   "execution_count": 10,
   "metadata": {},
   "outputs": [
    {
     "name": "stdout",
     "output_type": "stream",
     "text": [
      "Embedding shape: (59946, 384)\n"
     ]
    }
   ],
   "source": [
    "import numpy as np\n",
    "from sentence_transformers import SentenceTransformer\n",
    "from sklearn.cluster import KMeans\n",
    "\n",
    "model = SentenceTransformer('sentence-transformers/all-MiniLM-L6-v2')\n",
    "\n",
    "# Generate embeddings in batches\n",
    "def embeddings(text):\n",
    "    return model.encode(text, convert_to_numpy=True, normalize_embeddings=True)\n",
    "\n",
    "# Apply to all user profiles\n",
    "data['embeddings'] = data['user_profile'].apply(embeddings)\n",
    "\n",
    "# Convert to NumPy array\n",
    "embeddings = np.vstack(data['embeddings'].to_numpy())\n",
    "\n",
    "# Check shape\n",
    "print(f\"Embedding shape: {embeddings.shape}\")  # Should be (num_users, 384)"
   ]
  },
  {
   "cell_type": "code",
   "execution_count": 12,
   "metadata": {},
   "outputs": [],
   "source": [
    "# Perform KMeans clustering\n",
    "kmeans = KMeans(n_clusters=5, random_state=42)\n",
    "data['cluster'] = kmeans.fit_predict(embeddings)\n"
   ]
  },
  {
   "cell_type": "code",
   "execution_count": 13,
   "metadata": {},
   "outputs": [],
   "source": [
    "inertias = []\n",
    "range_of_clusters = range(1, 11)\n",
    "\n",
    "for k in range_of_clusters:\n",
    "    kmeans = KMeans(n_clusters=k, random_state=42)\n",
    "    kmeans.fit(embeddings)\n",
    "    inertias.append(kmeans.inertia_)"
   ]
  },
  {
   "cell_type": "code",
   "execution_count": 14,
   "metadata": {},
   "outputs": [
    {
     "data": {
      "image/png": "[encoded data removed]",
      "text/plain": [
       "<Figure size 640x480 with 1 Axes>"
      ]
     },
     "metadata": {},
     "output_type": "display_data"
    }
   ],
   "source": [
    "# Plot the elbow method\n",
    "\n",
    "import matplotlib.pyplot as plt\n",
    "\n",
    "plt.plot(range_of_clusters, inertias, marker='o')\n",
    "plt.xlabel('Number of clusters')\n",
    "plt.ylabel('Inertia')\n",
    "plt.title('KMeans Elbow Method')\n",
    "plt.show()"
   ]
  },
  {
   "cell_type": "code",
   "execution_count": 15,
   "metadata": {},
   "outputs": [
    {
     "name": "stdout",
     "output_type": "stream",
     "text": [
      "Optimal number of clusters: 4\n"
     ]
    }
   ],
   "source": [
    "from kneed import KneeLocator\n",
    "\n",
    "kl = KneeLocator(range_of_clusters, inertias, curve='convex', direction='decreasing')\n",
    "optimal_clusters = kl.knee\n",
    "\n",
    "print(f'Optimal number of clusters: {optimal_clusters}')"
   ]
  },
  {
   "cell_type": "code",
   "execution_count": 17,
   "metadata": {},
   "outputs": [
    {
     "name": "stdout",
     "output_type": "stream",
     "text": [
      "cluster\n",
      "0    19794\n",
      "1    14044\n",
      "2    21587\n",
      "3     4521\n",
      "dtype: int64\n"
     ]
    }
   ],
   "source": [
    "embeddings = np.vstack(data['embeddings'].to_numpy())\n",
    "\n",
    "# Perform KMeans clustering based on the optimal number of clusters\n",
    "kmeans = KMeans(n_clusters=4, random_state=42)\n",
    "data['cluster'] = kmeans.fit_predict(embeddings)\n",
    "\n",
    "# Check cluster distributions\n",
    "print(data.groupby('cluster').size())"
   ]
  },
  {
   "cell_type": "code",
   "execution_count": 65,
   "metadata": {},
   "outputs": [
    {
     "name": "stdout",
     "output_type": "stream",
     "text": [
      "         polarity  subjectivity\n",
      "cluster                        \n",
      "0        0.187075      0.513534\n",
      "1        0.178420      0.500755\n",
      "2        0.160247      0.500993\n",
      "3        0.134565      0.500089\n"
     ]
    }
   ],
   "source": [
    "# I want to see the distribution of the clusters with the model sentiment analysis. with anger, disgust,happioness, sadness, fear, surprise.\n",
    "\n",
    "from textblob import TextBlob\n",
    "\n",
    "# Define sentiment analysis function\n",
    "def sentiment_analysis(text):\n",
    "    blob = TextBlob(text)\n",
    "    return blob.sentiment\n",
    "\n",
    "# Apply sentiment analysis to user profiles\n",
    "data['sentiment'] = data['user_profile'].apply(sentiment_analysis)\n",
    "\n",
    "# Extract polarity and subjectivity\n",
    "data['polarity'] = data['sentiment'].apply(lambda x: x.polarity)\n",
    "data['subjectivity'] = data['sentiment'].apply(lambda x: x.subjectivity)\n",
    "\n",
    "# Check sentiment distributions\n",
    "print(data.groupby('cluster')[['polarity', 'subjectivity']].mean())\n"
   ]
  },
  {
   "cell_type": "code",
   "execution_count": 66,
   "metadata": {},
   "outputs": [
    {
     "name": "stdout",
     "output_type": "stream",
     "text": [
      "[('comment', 175770), ('like', 139730), ('love', 124230), ('friend', 96514), ('kid', 94759), ('favorite', 92403), ('good', 90166), ('music', 84421), ('live', 83480), ('time', 82299)]\n"
     ]
    }
   ],
   "source": [
    "# explain the polarity and subjectivity and give me more information about the clusters.\n",
    "\n",
    "# Define function to extract most common words\n",
    "def extract_words(text):\n",
    "    words = word_tokenize(text)\n",
    "    words = [word for word in words if word.isalpha()]\n",
    "    return words\n",
    "\n",
    "# Apply to user profiles\n",
    "data['words'] = data['user_profile'].apply(extract_words)\n",
    "\n",
    "# Check most common words\n",
    "from collections import Counter\n",
    "\n",
    "common_words = Counter()\n",
    "for words in data['words']:\n",
    "    common_words.update(words)\n",
    "\n",
    "print(common_words.most_common(10))\n"
   ]
  }
 ],
 "metadata": {
  "kernelspec": {
   "display_name": "genai",
   "language": "python",
   "name": "python3"
  },
  "language_info": {
   "codemirror_mode": {
    "name": "ipython",
    "version": 3
   },
   "file_extension": ".py",
   "mimetype": "text/x-python",
   "name": "python",
   "nbconvert_exporter": "python",
   "pygments_lexer": "ipython3",
   "version": "3.10.16"
  }
 },
 "nbformat": 4,
 "nbformat_minor": 2
}
